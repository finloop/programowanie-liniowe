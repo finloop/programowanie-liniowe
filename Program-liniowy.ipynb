{
  "nbformat": 4,
  "nbformat_minor": 0,
  "metadata": {
    "colab": {
      "name": "Program-liniowy.ipynb",
      "provenance": [],
      "collapsed_sections": [],
      "authorship_tag": "ABX9TyMcpLb5P7cP2lvCdAXUE5Ov",
      "include_colab_link": true
    },
    "kernelspec": {
      "name": "python3",
      "display_name": "Python 3"
    },
    "language_info": {
      "name": "python"
    }
  },
  "cells": [
    {
      "cell_type": "markdown",
      "metadata": {
        "id": "view-in-github",
        "colab_type": "text"
      },
      "source": [
        "<a href=\"https://colab.research.google.com/github/finloop/programowanie-liniowe/blob/main/Program-liniowy.ipynb\" target=\"_parent\"><img src=\"https://colab.research.google.com/assets/colab-badge.svg\" alt=\"Open In Colab\"/></a>"
      ]
    },
    {
      "cell_type": "markdown",
      "metadata": {
        "id": "1FNn_dGMpNkN"
      },
      "source": [
        "# Programowanie liniowe z pomocą Python'a\n",
        " Ten notebook ma na celu pokazanie jak można rozwiązywać program liniowy z pomocą biblioteki `SciPy`. Zacznę od rozwiązania przykładowego zadania oraz pokażę w jaki sposób interpretować wyniki zwracene przez program. Następnie każdy kolejny przykład utrudnię zwiększając liczbę zmiennych oraz wprowadzając sprzeczności.\n",
        "\n",
        "\n"
      ]
    },
    {
      "cell_type": "markdown",
      "metadata": {
        "id": "Cf4vTzWY7KZb"
      },
      "source": [
        "\n",
        "## Program liniowy w SciPy\n",
        "Z dokumentacji biblioteki `SciPy` odczytać możemy w jakiej postaci przyjmuje ona problemy w postaci: $$\\min_x \\ c^T x \\\\  \n",
        "A_{ub} x \\leq b_{ub},\\\\ \n",
        "A_{eq} x = b_{eq},\\\\ \n",
        "l \\leq x \\leq u$$\n",
        "Gdzie:\n",
        "*   $\\min_x \\ c^T x$ to funkcja celu\n",
        "*   $x$ to wektor zmiennych decyzyjnych\n",
        "*   $c^T$ to macierz transponowana do macierzy jednokolumnowej C tzn. $c^T = [c_1, \\dots , c_n]$\n",
        "*   $A_{ub}$ - wiersze macierzy ograniczeń dla, których ograniczenie jest w postaci $\\leq$\n",
        "*   $b_{ub}$ - ograniczenia górne dla wierszy $A_{ub}$\n",
        "*   $A_{eq}$ - wiersze macierzy ograniczeń dla, których ograniczenie jest w postaci $ = $\n",
        "*   $b_{eq}$ - ograniczenia dla wierszy $A_{eq}$\n",
        "*   $l$ dolne ograniczenie dla $x$ domyślnie $0$\n",
        "\n",
        "Można zauważyć, że nie każdy problem tak od razu będzie można rozwiązać z pomocą `SciPy` (niektóre będą wymagały przekształceń), ale zaletą jest to, że wszystkie dane podajemy w postaci macierzy, które posiadaja bardzo rozbudowany interfejs w Pythonie.\n"
      ]
    },
    {
      "cell_type": "markdown",
      "metadata": {
        "id": "m_Pxnrnh7M7e"
      },
      "source": [
        "## Przykładowe zadanie\n",
        "Rozważmy następujący program liniowy:\n",
        "$$\\begin{cases} -2x_1 + 4x_2 \\rightarrow max  \\\\\n",
        "2x_1 + 3x_2 \\geq 3 \\\\\n",
        "-4x_1 + 2x_2 \\leq 5 \\\\\n",
        "0 \\leq x_1, x_2   \\end{cases} $$\n",
        "Sprowadzam go do problemu minimalizacji:\n",
        "$$\\begin{cases} 2x_1 - 4x_2 \\rightarrow min  \\\\\n",
        "-2x_1 - 3x_2 \\leq -3 \\\\\n",
        "-4x_1 + 2x_2 \\leq 5 \\\\\n",
        "0 \\leq x_1, x_2   \\end{cases} $$\n",
        "zadanie w takiej formie możemy już przetworzyć z pomocą `SciPy`. Takie przekształcenie możemy wykonać z pomocą pythona, co znacznie przyspiesza pracę dla dużych macierzy."
      ]
    },
    {
      "cell_type": "code",
      "metadata": {
        "colab": {
          "base_uri": "https://localhost:8080/"
        },
        "id": "1A14R7OD7TzY",
        "outputId": "5f2c57a3-f9c0-4b23-ab63-c1e96f00c35b"
      },
      "source": [
        "import numpy as np # Biblioteka obsługująca macierze\n",
        "from scipy.optimize import linprog # Fukcja z SciPy do rozwiązywania programu liniowego\n",
        "\n",
        "# Wprowadzenie macierzy kosztów\n",
        "A_ub = np.array([[2, 3],\n",
        "                 [-4, 2]])\n",
        "\n",
        "# Pomnożenie pierwszego wiersza (w pythonie indeksujemy od 0) przez -1\n",
        "A_ub[0, :] = A_ub[0,:] * -1\n",
        "A_ub"
      ],
      "execution_count": 2,
      "outputs": [
        {
          "output_type": "execute_result",
          "data": {
            "text/plain": [
              "array([[-2, -3],\n",
              "       [-4,  2]])"
            ]
          },
          "metadata": {
            "tags": []
          },
          "execution_count": 2
        }
      ]
    },
    {
      "cell_type": "code",
      "metadata": {
        "colab": {
          "base_uri": "https://localhost:8080/"
        },
        "id": "ZQZrI9AX9Smw",
        "outputId": "6576c787-090b-4a4a-c9e0-7090ae7f82c0"
      },
      "source": [
        "# Wprowadzenie ograniczeń górnych\n",
        "b_ub = np.array([3,5])\n",
        "\n",
        "# Pomnożenie pierwszego elementu przez -1\n",
        "b_ub[0] = b_ub[0] * -1\n",
        "b_ub"
      ],
      "execution_count": 3,
      "outputs": [
        {
          "output_type": "execute_result",
          "data": {
            "text/plain": [
              "array([-3,  5])"
            ]
          },
          "metadata": {
            "tags": []
          },
          "execution_count": 3
        }
      ]
    },
    {
      "cell_type": "code",
      "metadata": {
        "colab": {
          "base_uri": "https://localhost:8080/"
        },
        "id": "aZSTAuNr9vEP",
        "outputId": "9992e3b1-7829-4a73-9c8c-2debb11e7f37"
      },
      "source": [
        "# Wprowadzenie wektora c\n",
        "c = np.array([-2, 4])\n",
        "\n",
        "# Przemnożenie wektora c przez -1\n",
        "c = c * -1\n",
        "c"
      ],
      "execution_count": 4,
      "outputs": [
        {
          "output_type": "execute_result",
          "data": {
            "text/plain": [
              "array([ 2, -4])"
            ]
          },
          "metadata": {
            "tags": []
          },
          "execution_count": 4
        }
      ]
    },
    {
      "cell_type": "code",
      "metadata": {
        "colab": {
          "base_uri": "https://localhost:8080/"
        },
        "id": "-isfa5Jr-YNu",
        "outputId": "25633b73-3157-4f37-e55c-8e7cae5f9908"
      },
      "source": [
        "# Rozwiązanie\n",
        "wynik = linprog(c=c, A_ub=A_ub, b_ub=b_ub)\n",
        "wynik "
      ],
      "execution_count": 5,
      "outputs": [
        {
          "output_type": "stream",
          "text": [
            "/usr/local/lib/python3.7/dist-packages/numpy/core/fromnumeric.py:87: VisibleDeprecationWarning: Creating an ndarray from ragged nested sequences (which is a list-or-tuple of lists-or-tuples-or ndarrays with different lengths or shapes) is deprecated. If you meant to do this, you must specify 'dtype=object' when creating the ndarray\n",
            "  return ufunc.reduce(obj, axis, dtype, out, **passkwargs)\n"
          ],
          "name": "stderr"
        },
        {
          "output_type": "execute_result",
          "data": {
            "text/plain": [
              "     con: array([], dtype=float64)\n",
              "     fun: -4313094417.980653\n",
              " message: 'The algorithm terminated successfully and determined that the problem is unbounded.'\n",
              "     nit: 4\n",
              "   slack: array([1.16918256e+10, 5.09231405e+09])\n",
              "  status: 3\n",
              " success: False\n",
              "       x: array([2.41628708e+09, 2.28641715e+09])"
            ]
          },
          "metadata": {
            "tags": []
          },
          "execution_count": 5
        }
      ]
    },
    {
      "cell_type": "markdown",
      "metadata": {
        "id": "KNofCRIo--UF"
      },
      "source": [
        "### Interpretacja wyniku\n",
        "*    **con** różnica między $b_{eq} - A_{eq}x$\n",
        "*    **fun** wartość funkcji celu\n",
        "*    **messge** status zwrócony przez fukcję\n",
        "*    **nit** ilość iteracji\n",
        "*    **slack** różnica między $b_{ub} - A_{ub}x$\n",
        "*    **status** jest to jedna z wartości:\n",
        "    0. Optymalizacja zakończona sukcesem\n",
        "    1. Przekroczono limit iteracji\n",
        "    2. Problem jest sprzeczny\n",
        "    3. Problem jest nieograniczony\n",
        "    4. Problem z obliczeniami\n",
        "*    **success** przyjmuje wartość `True` jeżeli znaleziono rozwiązanie optymalne\n",
        "*    **x** wartości zmiennych decyzyjnych\n",
        "\n",
        "Program twierdzi, że program linowy jest nieograniczony. Przykład ten zawiera wyłącznie dwie zmienne, możemy go zatem łatwo narysować."
      ]
    },
    {
      "cell_type": "code",
      "metadata": {
        "colab": {
          "base_uri": "https://localhost:8080/",
          "height": 269
        },
        "id": "ZzDVUUrw_1RN",
        "outputId": "0267243c-f532-4991-ce07-620d41c48d9b"
      },
      "source": [
        "import matplotlib.pyplot as plt   \n",
        "\n",
        "def abline(A, B, C, between):\n",
        "    \"\"\"Rysuje linię w postaci ogólnej\"\"\"\n",
        "    slope = -A/B\n",
        "    intercept = -C\n",
        "    axes = plt.gca()\n",
        "    x_vals = np.array(axes.get_xlim())\n",
        "    y_vals = intercept + slope * x_vals\n",
        "    plt.plot(x_vals, y_vals, '--')\n",
        "    plt.fill_between(x_vals, y_vals, between, alpha=0.2)\n",
        "\n",
        "plt.xlim((-10,10))\n",
        "plt.ylim((-10,10))\n",
        "\n",
        "abline(2,3,3,10)\n",
        "abline(-4,2,5,-10)  "
      ],
      "execution_count": 43,
      "outputs": [
        {
          "output_type": "display_data",
          "data": {
            "image/png": "[encoded data removed]",
            "text/plain": [
              "<Figure size 432x288 with 1 Axes>"
            ]
          },
          "metadata": {
            "tags": [],
            "needs_background": "light"
          }
        }
      ]
    },
    {
      "cell_type": "markdown",
      "metadata": {
        "id": "pCEkBm9Ts-qo"
      },
      "source": [
        "# Rozwiązywanie problemu w postaci kanonicznej\n",
        "\n",
        "Dla zadania w postaci kanonicznej będziemy korzystać wyłącznie z części:\n",
        "$$\\min_x \\ c^T x \\\\  \n",
        "A_{eq} x = b_{eq},\\\\ \n",
        "0 \\leq x $$\n",
        "\n"
      ]
    },
    {
      "cell_type": "markdown",
      "metadata": {
        "id": "91n3Zye-Kk-0"
      },
      "source": [
        "Rozważmy program liniowy w postaci kanonicznej zapisany w następujący sposób:\n",
        "$$\\begin{cases}-2 x_1 + -1x_2 \\rightarrow min, \\\\\n",
        "3x_1 + 4x_2 = 5,  \\\\\n",
        "5x_1 + 5x_2 + x_3 = 10,  \\\\\n",
        "x_1 + x_4 = 20,  \\\\\n",
        "x_1 + 2x_2 + x_5 = 20,  \\\\\n",
        "x_1,x_2, x_3,x_4 ,x_5 \\geq 0\n",
        "\\end{cases}$$\n",
        "Jego rozwiązanie wygląda następująco:"
      ]
    },
    {
      "cell_type": "code",
      "metadata": {
        "colab": {
          "base_uri": "https://localhost:8080/"
        },
        "id": "oEYyIhABM-Qm",
        "outputId": "d235e49e-be82-4bf2-cda5-ba3079af08f9"
      },
      "source": [
        "A = np.array([[3, 4, 0, 0, 0],\n",
        "              [5, 5, 1, 0, 0],\n",
        "              [1, 0, 0, 1, 0],\n",
        "              [1, 2, 0, 0, 1]])\n",
        "\n",
        "b = np.array([5, 10, 20, 20])\n",
        "\n",
        "c = np.array([-2, -1, 0, 0, 0])\n",
        "\n",
        "wynik2 = linprog(c, A_eq=A, b_eq=b, method='simplex')\n",
        "wynik2"
      ],
      "execution_count": 48,
      "outputs": [
        {
          "output_type": "execute_result",
          "data": {
            "text/plain": [
              "     con: array([0., 0., 0., 0.])\n",
              "     fun: -3.3333333333333335\n",
              " message: 'Optimization terminated successfully.'\n",
              "     nit: 5\n",
              "   slack: array([], dtype=float64)\n",
              "  status: 0\n",
              " success: True\n",
              "       x: array([ 1.66666667,  0.        ,  1.66666667, 18.33333333, 18.33333333])"
            ]
          },
          "metadata": {
            "tags": []
          },
          "execution_count": 48
        }
      ]
    },
    {
      "cell_type": "code",
      "metadata": {
        "id": "dhExHasVNyBW"
      },
      "source": [
        ""
      ],
      "execution_count": null,
      "outputs": []
    }
  ]
}