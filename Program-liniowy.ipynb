{
  "nbformat": 4,
  "nbformat_minor": 0,
  "metadata": {
    "colab": {
      "name": "Program-liniowy.ipynb",
      "provenance": [],
      "collapsed_sections": [],
      "authorship_tag": "ABX9TyNFYLSiAr4CkgBaJTqZw2Sz",
      "include_colab_link": true
    },
    "kernelspec": {
      "name": "python3",
      "display_name": "Python 3"
    },
    "language_info": {
      "name": "python"
    }
  },
  "cells": [
    {
      "cell_type": "markdown",
      "metadata": {
        "id": "view-in-github",
        "colab_type": "text"
      },
      "source": [
        "<a href=\"https://colab.research.google.com/github/finloop/programowanie-liniowe/blob/main/Program-liniowy.ipynb\" target=\"_parent\"><img src=\"https://colab.research.google.com/assets/colab-badge.svg\" alt=\"Open In Colab\"/></a>"
      ]
    },
    {
      "cell_type": "markdown",
      "metadata": {
        "id": "1FNn_dGMpNkN"
      },
      "source": [
        "# Programowanie liniowe z pomocą Python'a\n",
        " Ten notebook ma na celu pokazanie jak można rozwiązywać program liniowy z pomocą biblioteki `SciPy`. Zacznę od rozwiązania przykładowego zadania oraz pokażę w jaki sposób interpretować wyniki zwracene przez program. Następnie każdy kolejny przykład utrudnię zwiększając liczbę zmiennych oraz wprowadzając sprzeczności."
      ]
    },
    {
      "cell_type": "markdown",
      "metadata": {
        "id": "pCEkBm9Ts-qo"
      },
      "source": [
        "# Rozwiązywanie problemu w postaci kanonicznej\n",
        "Z dokumentacji biblioteki `SciPy` odczytać możemy w jakiej postaci przyjmuje ona problemy w postaci: $$\\min_x \\ c^T x \\\\  \n",
        "A_{ub} x \\leq b_{ub},\\\\ \n",
        "A_{eq} x = b_{eq},\\\\ \n",
        "l \\leq x \\leq u$$\n",
        "Gdzie:\n",
        "*   $\\min_x \\ c^T x$ to funkcja celu\n",
        "*   $x$ to wektor zmiennych decyzyjnych\n",
        "*   $c^T$ to macierz transponowana do macierzy jednokolumnowej C tzn. $c^T = [c_1, \\dots , c_n]$\n",
        "*   $A_{ub}$ - wiersze macierzy ograniczeń dla, których ograniczenie jest w postaci $\\leq$\n",
        "*   $b_{ub}$ - ograniczenia górne dla wierszy $A_{ub}$\n",
        "*   $A_{eq}$ - wiersze macierzy ograniczeń dla, których ograniczenie jest w postaci $ = $\n",
        "*   $b_{eq}$ - ograniczenia górne dla wierszy $A_{eq}$\n",
        "*   $l$ dolne ograniczenie dla $x$ domyślnie $0$\n",
        "\n",
        "Dla zadania w postaci kanonicznej będziemy korzystać wyłącznie z części:\n",
        "$$\\min_x \\ c^T x \\\\  \n",
        "A_{eq} x = b_{eq},\\\\ \n",
        "0 \\leq x $$\n",
        "\n",
        "\n"
      ]
    },
    {
      "cell_type": "code",
      "metadata": {
        "id": "2u48HVihpjy6"
      },
      "source": [
        "from scipy.optimize import linprog"
      ],
      "execution_count": null,
      "outputs": []
    }
  ]
}