{
  "nbformat": 4,
  "nbformat_minor": 0,
  "metadata": {
    "colab": {
      "name": "Program-liniowy.ipynb",
      "provenance": [],
      "collapsed_sections": [],
      "toc_visible": true,
      "authorship_tag": "ABX9TyMem3t3GooTXtwEYflIW/k/",
      "include_colab_link": true
    },
    "kernelspec": {
      "name": "python3",
      "display_name": "Python 3"
    },
    "language_info": {
      "name": "python"
    }
  },
  "cells": [
    {
      "cell_type": "markdown",
      "metadata": {
        "id": "view-in-github",
        "colab_type": "text"
      },
      "source": [
        "<a href=\"https://colab.research.google.com/github/finloop/programowanie-liniowe/blob/main/Program-liniowy.ipynb\" target=\"_parent\"><img src=\"https://colab.research.google.com/assets/colab-badge.svg\" alt=\"Open In Colab\"/></a>"
      ]
    },
    {
      "cell_type": "markdown",
      "metadata": {
        "id": "1FNn_dGMpNkN"
      },
      "source": [
        "# Programowanie liniowe z pomocą Python'a\n",
        " Ten notebook ma na celu pokazanie jak można rozwiązywać program liniowy z pomocą biblioteki `SciPy`. Zaczniemy od rozwiązania przykładowego zadania oraz pokazania w jaki sposób interpretować wyniki zwracane przez program.\n",
        "\n",
        "\n"
      ]
    },
    {
      "cell_type": "markdown",
      "metadata": {
        "id": "Cf4vTzWY7KZb"
      },
      "source": [
        "\n",
        "## Program liniowy w SciPy\n",
        "Z dokumentacji biblioteki `SciPy` odczytać możemy w jakiej postaci przyjmuje ona problemy w postaci: $$\\min_x \\ c^T x \\\\  \n",
        "A_{ub} x \\leq b_{ub},\\\\ \n",
        "A_{eq} x = b_{eq},\\\\ \n",
        "l \\leq x \\leq u$$\n",
        "Gdzie:\n",
        "*   $\\min_x \\ c^T x$ to funkcja celu\n",
        "*   $x$ to wektor zmiennych decyzyjnych\n",
        "*   $c^T$ to macierz transponowana do macierzy jednokolumnowej C tzn. $c^T = [c_1, \\dots , c_n]$\n",
        "*   $A_{ub}$ - wiersze macierzy ograniczeń dla, których ograniczenie jest w postaci $\\leq$\n",
        "*   $b_{ub}$ - ograniczenia górne dla wierszy $A_{ub}$\n",
        "*   $A_{eq}$ - wiersze macierzy ograniczeń dla, których ograniczenie jest w postaci $ = $\n",
        "*   $b_{eq}$ - ograniczenia dla wierszy $A_{eq}$\n",
        "*   $l$ dolne ograniczenie dla $x$ domyślnie $0$\n",
        "\n",
        "Można zauważyć, że nie każdy problem tak od razu będzie można rozwiązać z pomocą `SciPy` (niektóre będą wymagały przekształceń), ale zaletą jest to, że wszystkie dane podajemy w postaci macierzy, które posiadaja bardzo rozbudowany interfejs w Pythonie.\n"
      ]
    },
    {
      "cell_type": "markdown",
      "metadata": {
        "id": "m_Pxnrnh7M7e"
      },
      "source": [
        "## Przykładowe zadanie\n",
        "Rozważmy następujący program liniowy:\n",
        "$$\\begin{cases} -2x_1 + 4x_2 \\rightarrow max  \\\\\n",
        "2x_1 + 3x_2 \\geq 3 \\\\\n",
        "-4x_1 + 2x_2 \\leq 5 \\\\\n",
        "0 \\leq x_1, x_2   \\end{cases} $$\n",
        "Sprowadzam go do problemu minimalizacji:\n",
        "$$\\begin{cases} 2x_1 - 4x_2 \\rightarrow min  \\\\\n",
        "-2x_1 - 3x_2 \\leq -3 \\\\\n",
        "-4x_1 + 2x_2 \\leq 5 \\\\\n",
        "0 \\leq x_1, x_2   \\end{cases} $$\n",
        "zadanie w takiej formie możemy już przetworzyć z pomocą `SciPy`. Takie przekształcenie możemy wykonać z pomocą pythona, co znacznie przyspiesza pracę dla dużych macierzy."
      ]
    },
    {
      "cell_type": "code",
      "metadata": {
        "colab": {
          "base_uri": "https://localhost:8080/"
        },
        "id": "1A14R7OD7TzY",
        "outputId": "8723a415-fb88-4de6-b5ab-fe4c949f6271"
      },
      "source": [
        "import numpy as np # Biblioteka obsługująca macierze\n",
        "from scipy.optimize import linprog # Fukcja z SciPy do rozwiązywania programu liniowego\n",
        "\n",
        "# Wprowadzenie macierzy kosztów\n",
        "A_ub = np.array([[2, 3],\n",
        "                 [-4, 2]])\n",
        "\n",
        "# Pomnożenie pierwszego wiersza (w pythonie indeksujemy od 0) przez -1\n",
        "A_ub[0, :] = A_ub[0,:] * -1\n",
        "\n",
        "print(A_ub)"
      ],
      "execution_count": null,
      "outputs": [
        {
          "output_type": "stream",
          "text": [
            "[[-2 -3]\n",
            " [-4  2]]\n"
          ],
          "name": "stdout"
        }
      ]
    },
    {
      "cell_type": "code",
      "metadata": {
        "colab": {
          "base_uri": "https://localhost:8080/"
        },
        "id": "ZQZrI9AX9Smw",
        "outputId": "6984e3c1-617a-4ac5-8816-cb16841b2b34"
      },
      "source": [
        "# Wprowadzenie ograniczeń górnych\n",
        "b_ub = np.array([3,5])\n",
        "\n",
        "# Pomnożenie pierwszego elementu przez -1\n",
        "b_ub[0] = b_ub[0] * -1\n",
        "print(b_ub)"
      ],
      "execution_count": null,
      "outputs": [
        {
          "output_type": "stream",
          "text": [
            "[-3  5]\n"
          ],
          "name": "stdout"
        }
      ]
    },
    {
      "cell_type": "code",
      "metadata": {
        "colab": {
          "base_uri": "https://localhost:8080/"
        },
        "id": "aZSTAuNr9vEP",
        "outputId": "b30c5938-198a-440a-89fb-9253e3f02846"
      },
      "source": [
        "# Wprowadzenie wektora c\n",
        "c = np.array([-2, 4])\n",
        "\n",
        "# Przemnożenie wektora c przez -1\n",
        "c = c * -1\n",
        "print(c)"
      ],
      "execution_count": null,
      "outputs": [
        {
          "output_type": "stream",
          "text": [
            "[ 2 -4]\n"
          ],
          "name": "stdout"
        }
      ]
    },
    {
      "cell_type": "code",
      "metadata": {
        "colab": {
          "base_uri": "https://localhost:8080/"
        },
        "id": "-isfa5Jr-YNu",
        "outputId": "7dfada3a-fc29-4af9-ae0e-72ade010232f"
      },
      "source": [
        "# Rozwiązanie\n",
        "wynik = linprog(c=c, A_ub=A_ub, b_ub=b_ub)\n",
        "wynik "
      ],
      "execution_count": null,
      "outputs": [
        {
          "output_type": "stream",
          "text": [
            "/usr/local/lib/python3.7/dist-packages/numpy/core/fromnumeric.py:87: VisibleDeprecationWarning: Creating an ndarray from ragged nested sequences (which is a list-or-tuple of lists-or-tuples-or ndarrays with different lengths or shapes) is deprecated. If you meant to do this, you must specify 'dtype=object' when creating the ndarray\n",
            "  return ufunc.reduce(obj, axis, dtype, out, **passkwargs)\n"
          ],
          "name": "stderr"
        },
        {
          "output_type": "execute_result",
          "data": {
            "text/plain": [
              "     con: array([], dtype=float64)\n",
              "     fun: -4313094417.980653\n",
              " message: 'The algorithm terminated successfully and determined that the problem is unbounded.'\n",
              "     nit: 4\n",
              "   slack: array([1.16918256e+10, 5.09231405e+09])\n",
              "  status: 3\n",
              " success: False\n",
              "       x: array([2.41628708e+09, 2.28641715e+09])"
            ]
          },
          "metadata": {
            "tags": []
          },
          "execution_count": 26
        }
      ]
    },
    {
      "cell_type": "markdown",
      "metadata": {
        "id": "KNofCRIo--UF"
      },
      "source": [
        "### Interpretacja wyniku\n",
        "*    **con** różnica między $b_{eq} - A_{eq}x$\n",
        "*    **fun** wartość funkcji celu\n",
        "*    **messge** status zwrócony przez fukcję\n",
        "*    **nit** ilość iteracji\n",
        "*    **slack** różnica między $b_{ub} - A_{ub}x$\n",
        "*    **status** jest to jedna z wartości:\n",
        "    0. Optymalizacja zakończona sukcesem\n",
        "    1. Przekroczono limit iteracji\n",
        "    2. Problem jest sprzeczny\n",
        "    3. Problem jest nieograniczony\n",
        "    4. Problem z obliczeniami\n",
        "*    **success** przyjmuje wartość `True` jeżeli znaleziono rozwiązanie optymalne\n",
        "*    **x** wartości zmiennych decyzyjnych\n",
        "\n",
        "Program twierdzi, że program linowy jest nieograniczony. Przykład ten zawiera wyłącznie dwie zmienne, możemy go zatem łatwo narysować."
      ]
    },
    {
      "cell_type": "markdown",
      "metadata": {
        "id": "zezgCoYvsldP"
      },
      "source": [
        "### Rozwiązanie graficzne\n",
        "\n",
        "Do narysowania wykresu wykorzystałem funkcję, która rysuje mi dowolną prostą w postaci ogólnej i na tej podstawie sprawdzę czy zadanie zostało rozwiązane poprawnie.\n"
      ]
    },
    {
      "cell_type": "code",
      "metadata": {
        "colab": {
          "base_uri": "https://localhost:8080/",
          "height": 269
        },
        "id": "ZzDVUUrw_1RN",
        "outputId": "51a2237c-6c24-41fd-8c28-1a0b4844de0b"
      },
      "source": [
        "import matplotlib.pyplot as plt   \n",
        "\n",
        "def abline(A, B, C, between):\n",
        "    \"\"\"Rysuje linię w postaci ogólnej\"\"\"\n",
        "    slope = -A/B\n",
        "    intercept = -C/B\n",
        "    axes = plt.gca()\n",
        "    x_vals = np.array(axes.get_xlim())\n",
        "    y_vals = intercept + slope * x_vals\n",
        "    plt.plot(x_vals, y_vals, '--')\n",
        "    # Wypełnienie wykresu pomiędzy prostą a `between`\n",
        "    if between:\n",
        "      plt.fill_between(x_vals, y_vals, between, alpha=0.2)\n",
        "\n",
        "lim = 10\n",
        "\n",
        "plt.xlim((0,lim))\n",
        "plt.ylim((0,lim))\n",
        "\n",
        "abline(2,3,-3,lim)\n",
        "abline(-4,2,-5,-lim)  \n"
      ],
      "execution_count": null,
      "outputs": [
        {
          "output_type": "display_data",
          "data": {
            "image/png": "[encoded data removed]",
            "text/plain": [
              "<Figure size 432x288 with 1 Axes>"
            ]
          },
          "metadata": {
            "tags": [],
            "needs_background": "light"
          }
        }
      ]
    },
    {
      "cell_type": "markdown",
      "metadata": {
        "id": "9JELfVQMxAGG"
      },
      "source": [
        "Aby sprawdzić wynik, rysował będę kolejne warstwice i na ich podstawie "
      ]
    },
    {
      "cell_type": "code",
      "metadata": {
        "colab": {
          "base_uri": "https://localhost:8080/",
          "height": 269
        },
        "id": "43J5kG2IwtBO",
        "outputId": "aee30a1b-1886-4cff-ceac-b8277adf850a"
      },
      "source": [
        "plt.xlim((0,lim))\n",
        "plt.ylim((0,lim))\n",
        "\n",
        "abline(2,3,-3,lim)\n",
        "abline(-4,2,-5,-lim)  \n",
        "\n",
        "# Kolejne warstwice\n",
        "abline(-2,4,-1,None) # Zielona \n",
        "abline(-2,4,-10,None) # Czerwona\n",
        "abline(-2,4,-20,None) # Fioletowa"
      ],
      "execution_count": null,
      "outputs": [
        {
          "output_type": "display_data",
          "data": {
            "image/png": "[encoded data removed]",
            "text/plain": [
              "<Figure size 432x288 with 1 Axes>"
            ]
          },
          "metadata": {
            "tags": [],
            "needs_background": "light"
          }
        }
      ]
    },
    {
      "cell_type": "markdown",
      "metadata": {
        "id": "pCEkBm9Ts-qo"
      },
      "source": [
        "# Rozwiązywanie problemu w postaci kanonicznej\n",
        "\n",
        "Dla zadania w postaci kanonicznej będziemy korzystać wyłącznie z części:\n",
        "$$\\min_x \\ c^T x \\\\  \n",
        "A_{eq} x = b_{eq},\\\\ \n",
        "0 \\leq x $$\n",
        "\n"
      ]
    },
    {
      "cell_type": "markdown",
      "metadata": {
        "id": "91n3Zye-Kk-0"
      },
      "source": [
        "## Przykładowe zadanie\n",
        "Rozważmy program liniowy w postaci kanonicznej zapisany w następujący sposób:\n",
        "$$\\begin{cases}-2 x_1 + -1x_2 \\rightarrow min, \\\\\n",
        "3x_1 + 4x_2 = 5,  \\\\\n",
        "5x_1 + 5x_2 + x_3 = 10,  \\\\\n",
        "x_1 + x_4 = 20,  \\\\\n",
        "x_1 + 2x_2 + x_5 = 20,  \\\\\n",
        "x_1,x_2, x_3,x_4 ,x_5 \\geq 0\n",
        "\\end{cases}$$\n",
        "Jego rozwiązanie wygląda następująco:"
      ]
    },
    {
      "cell_type": "code",
      "metadata": {
        "colab": {
          "base_uri": "https://localhost:8080/"
        },
        "id": "oEYyIhABM-Qm",
        "outputId": "0a7c22ca-a73c-4029-c5f5-e9434280d7bd"
      },
      "source": [
        "A = np.array([[3, 4, 0, 0, 0],\n",
        "              [5, 5, 1, 0, 0],\n",
        "              [1, 0, 0, 1, 0],\n",
        "              [1, 2, 0, 0, 1]])\n",
        "\n",
        "b = np.array([5, 10, 20, 20])\n",
        "\n",
        "c = np.array([-2, -1, 0, 0, 0])\n",
        "\n",
        "wynik2 = linprog(c, A_eq=A, b_eq=b, method='simplex')\n",
        "wynik2"
      ],
      "execution_count": null,
      "outputs": [
        {
          "output_type": "execute_result",
          "data": {
            "text/plain": [
              "     con: array([0., 0., 0., 0.])\n",
              "     fun: -3.3333333333333335\n",
              " message: 'Optimization terminated successfully.'\n",
              "     nit: 5\n",
              "   slack: array([], dtype=float64)\n",
              "  status: 0\n",
              " success: True\n",
              "       x: array([ 1.66666667,  0.        ,  1.66666667, 18.33333333, 18.33333333])"
            ]
          },
          "metadata": {
            "tags": []
          },
          "execution_count": 28
        }
      ]
    },
    {
      "cell_type": "markdown",
      "metadata": {
        "id": "i6ImbPjNPMxi"
      },
      "source": [
        "# Zagadnienie transportowe\n",
        "Z pomocą SciPy i linprog możemy rozwiązać także problem transporowy. Jednak wymagać to będzie przekształcenia macierzy kosztów to takiej, którą przyjmuje SciPy. \n",
        "\n",
        "Znanych jest $m$ dostawców pewnego produktu oraz $n$ jego odbiorców. Ponadto znane są dodatnie liczby:\n",
        "$$a_i (i=1,...,m), b_j (j=1,...,n)$$ oraz macierz $$C=[c_{ij}]$$ o wymiarach $m$ x $n$. Liczby te oznaczają:\n",
        "- $a_{i}$ - ilość produktu, jaką może dostarczyć i-ty dostawca\n",
        "- $b_j$ - ilość produktu jaką powinien otrzymać j-ty odbiorca,\n",
        "- $c_{ij}$ koszt transportu jednostki produktu od i-tego dostawcy do j-tego odbiorcy\n",
        "\n",
        "Macierz $C=[c_{ij}]$ nazywamy macierzą jednostkowych kosztów transportu, zaś liczby\n",
        "- $a_1,...a_m$ - zasobami dostawców\n",
        "- $b_1,...,b_n$ - zapotrzebowaniami odbiorców.\n",
        "\n",
        "Zadanie polega na znalezieniu układu przewozów minimalizującego łączny koszt transportu, przy założeniu, że:\n",
        "1. Łączna ilość produktu wywiezionego od każego dostawcy (do wszystkich odborców) jest równa jego zasobowi,\n",
        "2. Łącza ilość produktu przywiezionego do każdego odbiocy (od wszystkich dostawców) jest równa jego zapotrzebowaniu.\n",
        "\n",
        "Aby zbudować model matematyczny zadania transportowego, wprowadzimy macierz zmiennych decyzyjnych $X = [x_{ij}]$ o wymiarac $m$ x $n$, gdzie $x_{ij}$ oznacza ilość produktu, jaka ma być do przewiezienia od i-tego dostawc do j-tego odbiorcy."
      ]
    },
    {
      "cell_type": "markdown",
      "metadata": {
        "id": "aBmfNvicWlTu"
      },
      "source": [
        "## Poszukiwanie rozwiązania optymalnego\n",
        "\n",
        "| Dostawcy\\Odbiorcy \t| 10 \t| 20 \t| 10 \t| 5  \t| 10 \t| 20 \t|\n",
        "|-------------------\t|----\t|----\t|----\t|----\t|----\t|----\t|\n",
        "| 30                \t| 5  \t| 6  \t| 9  \t| 10 \t| 15 \t| 5  \t|\n",
        "| 10                \t| 11 \t| 15 \t| 5  \t| 12 \t| 20 \t| 8  \t|\n",
        "| 15                \t| 7  \t| 6  \t| 32 \t| 12 \t| 8  \t| 9  \t|\n",
        "| 20                \t| 7  \t| 3  \t| 7  \t| 4  \t| 10 \t| 11 \t|\n",
        "\n",
        "Zadanie jest zamknięte, możemy więc od razu przystąpić do rozwiązywania go. Rozwiążę je zamieniając to zadanie na program liniowy i skorzystam z SciPy."
      ]
    },
    {
      "cell_type": "code",
      "metadata": {
        "colab": {
          "base_uri": "https://localhost:8080/"
        },
        "id": "FpbejlFqXgDF",
        "outputId": "a3303323-cc37-4d85-aa7e-df863034dfa3"
      },
      "source": [
        "k = np.array([[5 ,6 ,9 ,10,15,5 ],\n",
        "              [11,15,5 ,12,20,8 ],\n",
        "              [7 ,6 ,32,12,8 ,9 ],\n",
        "              [7 ,3 ,7 ,4 ,10,11]\n",
        "])\n",
        "k # Macierz kosztu przewozu"
      ],
      "execution_count": null,
      "outputs": [
        {
          "output_type": "execute_result",
          "data": {
            "text/plain": [
              "array([[ 5,  6,  9, 10, 15,  5],\n",
              "       [11, 15,  5, 12, 20,  8],\n",
              "       [ 7,  6, 32, 12,  8,  9],\n",
              "       [ 7,  3,  7,  4, 10, 11]])"
            ]
          },
          "metadata": {
            "tags": []
          },
          "execution_count": 29
        }
      ]
    },
    {
      "cell_type": "markdown",
      "metadata": {
        "id": "kIaPeeUHuwcT"
      },
      "source": [
        "Wprowadzam ograniczenia dostawców i odbiorców:"
      ]
    },
    {
      "cell_type": "code",
      "metadata": {
        "colab": {
          "base_uri": "https://localhost:8080/"
        },
        "id": "5rCIGVHZaPao",
        "outputId": "84f87d72-f4ef-4dd5-baa3-8fce77e0d9b2"
      },
      "source": [
        "d = np.array([30,10,15,20]) # Ograniczenia dostawców\n",
        "o = np.array([10,20,10,5,10,20]) # Ograniczenia odbiorców\n",
        "\n",
        "b = np.concatenate([d, o]) # Ograniczenie dla A\n",
        "b"
      ],
      "execution_count": null,
      "outputs": [
        {
          "output_type": "execute_result",
          "data": {
            "text/plain": [
              "array([30, 10, 15, 20, 10, 20, 10,  5, 10, 20])"
            ]
          },
          "metadata": {
            "tags": []
          },
          "execution_count": 30
        }
      ]
    },
    {
      "cell_type": "markdown",
      "metadata": {
        "id": "uCjI5kNIu5lJ"
      },
      "source": [
        "Tworzę funkcję celu:"
      ]
    },
    {
      "cell_type": "code",
      "metadata": {
        "colab": {
          "base_uri": "https://localhost:8080/"
        },
        "id": "QdVWa0QJao-X",
        "outputId": "95367284-c680-45e9-85e3-7fb2af92b895"
      },
      "source": [
        "c = k.flatten() # Funkcja celu\n",
        "c"
      ],
      "execution_count": null,
      "outputs": [
        {
          "output_type": "execute_result",
          "data": {
            "text/plain": [
              "array([ 5,  6,  9, 10, 15,  5, 11, 15,  5, 12, 20,  8,  7,  6, 32, 12,  8,\n",
              "        9,  7,  3,  7,  4, 10, 11])"
            ]
          },
          "metadata": {
            "tags": []
          },
          "execution_count": 31
        }
      ]
    },
    {
      "cell_type": "markdown",
      "metadata": {
        "id": "HtwASddfuDMt"
      },
      "source": [
        "Macierzy w ten sposób nie jesteśmy w stanie przetworzyć bezpośrednio. Skorzystam więc z transformacji po której zadanie będzie nadawało się do przetworzenia przez algorytm simplex.\n",
        "\n"
      ]
    },
    {
      "cell_type": "code",
      "metadata": {
        "colab": {
          "base_uri": "https://localhost:8080/"
        },
        "id": "K2NhJ-tlax4E",
        "outputId": "222f9345-a7ef-4ac1-9e63-248419a45ced"
      },
      "source": [
        "n = len(o) # Liczba odbiorców\n",
        "m = len(d) # Liczba dostawców\n",
        "\n",
        "A = np.zeros((n+m, n*m))\n",
        "\n",
        "for i in range(0, m):\n",
        "  for j in range(0, n): \n",
        "    A[i,j + i*n] = 1\n",
        "    A[m + j,j +i*n] = 1\n",
        "    \n",
        "print(A)"
      ],
      "execution_count": null,
      "outputs": [
        {
          "output_type": "stream",
          "text": [
            "[[1. 1. 1. 1. 1. 1. 0. 0. 0. 0. 0. 0. 0. 0. 0. 0. 0. 0. 0. 0. 0. 0. 0. 0.]\n",
            " [0. 0. 0. 0. 0. 0. 1. 1. 1. 1. 1. 1. 0. 0. 0. 0. 0. 0. 0. 0. 0. 0. 0. 0.]\n",
            " [0. 0. 0. 0. 0. 0. 0. 0. 0. 0. 0. 0. 1. 1. 1. 1. 1. 1. 0. 0. 0. 0. 0. 0.]\n",
            " [0. 0. 0. 0. 0. 0. 0. 0. 0. 0. 0. 0. 0. 0. 0. 0. 0. 0. 1. 1. 1. 1. 1. 1.]\n",
            " [1. 0. 0. 0. 0. 0. 1. 0. 0. 0. 0. 0. 1. 0. 0. 0. 0. 0. 1. 0. 0. 0. 0. 0.]\n",
            " [0. 1. 0. 0. 0. 0. 0. 1. 0. 0. 0. 0. 0. 1. 0. 0. 0. 0. 0. 1. 0. 0. 0. 0.]\n",
            " [0. 0. 1. 0. 0. 0. 0. 0. 1. 0. 0. 0. 0. 0. 1. 0. 0. 0. 0. 0. 1. 0. 0. 0.]\n",
            " [0. 0. 0. 1. 0. 0. 0. 0. 0. 1. 0. 0. 0. 0. 0. 1. 0. 0. 0. 0. 0. 1. 0. 0.]\n",
            " [0. 0. 0. 0. 1. 0. 0. 0. 0. 0. 1. 0. 0. 0. 0. 0. 1. 0. 0. 0. 0. 0. 1. 0.]\n",
            " [0. 0. 0. 0. 0. 1. 0. 0. 0. 0. 0. 1. 0. 0. 0. 0. 0. 1. 0. 0. 0. 0. 0. 1.]]\n"
          ],
          "name": "stdout"
        }
      ]
    },
    {
      "cell_type": "code",
      "metadata": {
        "colab": {
          "base_uri": "https://localhost:8080/"
        },
        "id": "4x3jMh8qjxjm",
        "outputId": "01e0755a-58b8-4652-978f-a1ef5f0bbf5a"
      },
      "source": [
        "wynikT = linprog(c, A_eq=A, b_eq=b, method='simplex')\n",
        "wynikT"
      ],
      "execution_count": null,
      "outputs": [
        {
          "output_type": "stream",
          "text": [
            "/usr/local/lib/python3.7/dist-packages/ipykernel_launcher.py:1: OptimizeWarning: A_eq does not appear to be of full row rank. To improve performance, check the problem formulation for redundant equality constraints.\n",
            "  \"\"\"Entry point for launching an IPython kernel.\n"
          ],
          "name": "stderr"
        },
        {
          "output_type": "execute_result",
          "data": {
            "text/plain": [
              "     con: array([0., 0., 0., 0., 0., 0., 0., 0., 0., 0.])\n",
              "     fun: 375.0\n",
              " message: 'Optimization terminated successfully.'\n",
              "     nit: 17\n",
              "   slack: array([], dtype=float64)\n",
              "  status: 0\n",
              " success: True\n",
              "       x: array([10.,  0.,  0.,  0.,  0., 20.,  0.,  0., 10.,  0.,  0.,  0.,  0.,\n",
              "        5.,  0.,  0., 10.,  0.,  0., 15.,  0.,  5.,  0.,  0.])"
            ]
          },
          "metadata": {
            "tags": []
          },
          "execution_count": 33
        }
      ]
    },
    {
      "cell_type": "markdown",
      "metadata": {
        "id": "ASgfr9kFtwJd"
      },
      "source": [
        "| Dostawcy\\Odbiorcy \t| 10 \t| 20 \t| 10 \t| 5  \t| 10 \t| 20 \t|\n",
        "|-------------------\t|----\t|----\t|----\t|----\t|----\t|----\t|\n",
        "| 30                \t| 5  \t| 6  \t| 9  \t| 10 \t| 15 \t| 5  \t|\n",
        "| 10                \t| 11 \t| 15 \t| 5  \t| 12 \t| 20 \t| 8  \t|\n",
        "| 15                \t| 7  \t| 6  \t| 32 \t| 12 \t| 8  \t| 9  \t|\n",
        "| 20                \t| 7  \t| 3  \t| 7  \t| 4  \t| 10 \t| 11 \t|"
      ]
    },
    {
      "cell_type": "code",
      "metadata": {
        "colab": {
          "base_uri": "https://localhost:8080/"
        },
        "id": "fWXBk-EHlgac",
        "outputId": "6d22130a-4d7c-488e-ed2c-9ebed99871cd"
      },
      "source": [
        "w = wynikT.x.reshape((m,n))\n",
        "print(w)\n",
        "print(k)"
      ],
      "execution_count": null,
      "outputs": [
        {
          "output_type": "stream",
          "text": [
            "[[10.  0.  0.  0.  0. 20.]\n",
            " [ 0.  0. 10.  0.  0.  0.]\n",
            " [ 0.  5.  0.  0. 10.  0.]\n",
            " [ 0. 15.  0.  5.  0.  0.]]\n",
            "[[ 5  6  9 10 15  5]\n",
            " [11 15  5 12 20  8]\n",
            " [ 7  6 32 12  8  9]\n",
            " [ 7  3  7  4 10 11]]\n"
          ],
          "name": "stdout"
        }
      ]
    },
    {
      "cell_type": "code",
      "metadata": {
        "colab": {
          "base_uri": "https://localhost:8080/"
        },
        "id": "I8BEsyMo92CX",
        "outputId": "c39156f2-e77a-4cff-a450-ce409a98b60a"
      },
      "source": [
        "w * k"
      ],
      "execution_count": null,
      "outputs": [
        {
          "output_type": "execute_result",
          "data": {
            "text/plain": [
              "array([[ 50.,   0.,   0.,   0.,   0., 100.],\n",
              "       [  0.,   0.,  50.,   0.,   0.,   0.],\n",
              "       [  0.,  30.,   0.,   0.,  80.,   0.],\n",
              "       [  0.,  45.,   0.,  20.,   0.,   0.]])"
            ]
          },
          "metadata": {
            "tags": []
          },
          "execution_count": 58
        }
      ]
    },
    {
      "cell_type": "code",
      "metadata": {
        "colab": {
          "base_uri": "https://localhost:8080/"
        },
        "id": "fRuzCSpX93r6",
        "outputId": "12045561-f247-4861-b4fa-42c53565ab8a"
      },
      "source": [
        "np.sum(w * k)"
      ],
      "execution_count": null,
      "outputs": [
        {
          "output_type": "execute_result",
          "data": {
            "text/plain": [
              "375.0"
            ]
          },
          "metadata": {
            "tags": []
          },
          "execution_count": 59
        }
      ]
    }
  ]
}