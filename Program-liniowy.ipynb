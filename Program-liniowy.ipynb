{
  "nbformat": 4,
  "nbformat_minor": 0,
  "metadata": {
    "colab": {
      "name": "Untitled1.ipynb",
      "provenance": [],
      "authorship_tag": "ABX9TyN+hMyma2QqFt0sTk03zf0N",
      "include_colab_link": true
    },
    "kernelspec": {
      "name": "python3",
      "display_name": "Python 3"
    },
    "language_info": {
      "name": "python"
    }
  },
  "cells": [
    {
      "cell_type": "markdown",
      "metadata": {
        "id": "view-in-github",
        "colab_type": "text"
      },
      "source": [
        "<a href=\"https://colab.research.google.com/github/finloop/programowanie-liniowe/blob/main/Program-liniowy.ipynb\" target=\"_parent\"><img src=\"https://colab.research.google.com/assets/colab-badge.svg\" alt=\"Open In Colab\"/></a>"
      ]
    },
    {
      "cell_type": "markdown",
      "metadata": {
        "id": "D6FgrPmppt-2"
      },
      "source": [
        "New section"
      ]
    },
    {
      "cell_type": "markdown",
      "metadata": {
        "id": "1FNn_dGMpNkN"
      },
      "source": [
        "# Programowanie liniowe z pomocą Python'a\n",
        " Ten notebook ma na celu pokazanie jak można rozwiązywać program liniowy z pomocą różnych bibliotek dostępnych w języku python.  "
      ]
    },
    {
      "cell_type": "code",
      "metadata": {
        "id": "2u48HVihpjy6"
      },
      "source": [
        "from scipy.optimize import linprog"
      ],
      "execution_count": null,
      "outputs": []
    }
  ]
}